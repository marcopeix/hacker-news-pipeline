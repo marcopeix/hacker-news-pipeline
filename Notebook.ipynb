{
 "cells": [
  {
   "cell_type": "markdown",
   "metadata": {},
   "source": [
    "# Hacker News Pipeline\n",
    "\n",
    "This project introduces the field of data engineering by creating a data pipeline. Specifically, the data pipeline retrieves the 100 most populars keywords in the titles of articles in Hacker News. \n",
    "\n",
    "Each post has a set of keys. Here is a description of the most relevant keys:\n",
    "* `created_at` - A timestamp of the story's creation time\n",
    "* `created_at_i` - A unix epoch timestamp\n",
    "* `url` - URL of the article's link\n",
    "* `objectID` - Unique ID of the story\n",
    "* `author` - The author's username on Hacker News\n",
    "* `points` - The number of upvotes\n",
    "* `title` - The title of the story\n",
    "* `num_comments` - The number of comments for the article on Hacker News\n",
    "\n",
    "**Objective:** To construct a data pipeline to retrieve the 100 most common keywords of the most popular articles on Hacker News.\n",
    "\n",
    "**Techniques used:**\n",
    "* Natural language processing\n",
    "* JSON, datetime, data pipeline\n",
    "* Function decorators"
   ]
  },
  {
   "cell_type": "code",
   "execution_count": 2,
   "metadata": {
    "collapsed": false
   },
   "outputs": [
    {
     "name": "stdout",
     "output_type": "stream",
     "text": [
      "[('google', 168), ('bitcoin', 102), ('programming', 91), ('python', 76), ('released', 72), ('facebook', 72), ('javascript', 66), ('source', 65), ('internet', 63), ('microsoft', 60), ('language', 55), ('software', 53), ('startup', 52), ('security', 49), ('github', 46), ('system', 45), ('windows', 45), ('project', 41), ('computer', 41), ('heartbleed', 41), ('should', 38), ('design', 38), ('twitter', 37), ('developer', 37), ('online', 35), ('android', 35), ('simple', 34), ('browser', 33), ('learning', 33), ('firefox', 32), ('mozilla', 32), ('server', 32), ('problem', 32), ('engine', 32), ('introducing', 31), ('amazon', 31), ('better', 30), ('support', 30), ('people', 30), ('million', 30), ('development', 29), ('developers', 28), ('library', 28), ('billion', 28), ('chrome', 28), ('website', 28), ('inside', 28), ('hacker', 27), ('release', 27), ('silicon', 27), ('mobile', 26), ('haskell', 26), ('public', 26), ('service', 26), ('valley', 26), ('science', 26), ('future', 26), ('building', 25), ('working', 25), ('machine', 25), ('docker', 25), ('program', 25), ('search', 25), ('programmer', 24), ('things', 24), ('oculus', 24), ('openssl', 24), ('opensource', 24), ('against', 24), ('editor', 23), ('company', 23), ('raises', 23), ('without', 23), ('faster', 22), ('government', 22), ('clojure', 22), ('surveillance', 22), ('network', 22), ('learned', 21), ('private', 21), ('interview', 21), ('dropbox', 21), ('performance', 21), ('nodejs', 21), ('hackers', 20), ('hacked', 20), ('patent', 20), ('visual', 20), ('startups', 19), ('making', 19), ('stripe', 19), ('flappy', 19), ('business', 19), ('analysis', 19), ('review', 19), ('snowden', 19), ('systems', 19), ('framework', 18), ('combinator', 18), ('postgresql', 18)]\n"
     ]
    }
   ],
   "source": [
    "from datetime import datetime\n",
    "import json\n",
    "import io\n",
    "import string\n",
    "import csv\n",
    "\n",
    "from pipeline import build_csv, Pipeline\n",
    "\n",
    "pipeline = Pipeline()\n",
    "\n",
    "@pipeline.task()\n",
    "def file_to_json():\n",
    "    with open('hn_stories_2014.json', 'r') as f:\n",
    "        data = json.load(f)\n",
    "        stories = data['stories']\n",
    "    return stories\n",
    "\n",
    "@pipeline.task(depends_on=file_to_json)\n",
    "def filter_stories(stories):\n",
    "    def is_popular(story):\n",
    "        return story['points'] > 50 and story['num_comments'] > 1 and not story['title'].startswith('Ask HN')\n",
    "    \n",
    "    return (\n",
    "        story for story in stories\n",
    "        if is_popular(story)\n",
    "    )\n",
    "\n",
    "@pipeline.task(depends_on=filter_stories)\n",
    "def json_to_csv(stories):\n",
    "    lines = []\n",
    "    for story in stories:\n",
    "        lines.append(\n",
    "            (story['objectID'], datetime.strptime(story['created_at'], \"%Y-%m-%dT%H:%M:%SZ\"), story['url'], story['points'], story['title'])\n",
    "        )\n",
    "    return build_csv(lines, header=['objectID', 'created_at', 'url', 'points', 'title'], file=io.StringIO())\n",
    "\n",
    "@pipeline.task(depends_on=json_to_csv)\n",
    "def extract_titles(csv_file):\n",
    "    reader = csv.reader(csv_file)\n",
    "    header = next(reader)\n",
    "    idx = header.index('title')\n",
    "    \n",
    "    return (line[idx] for line in reader)\n",
    "\n",
    "@pipeline.task(depends_on=extract_titles)\n",
    "def clean_title(titles):\n",
    "    for title in titles:\n",
    "        title = title.lower()\n",
    "        title = ''.join(c for c in title if c not in string.punctuation)\n",
    "        yield title\n",
    "\n",
    "@pipeline.task(depends_on=clean_title)\n",
    "def build_keyword_dictionary(titles):\n",
    "    word_freq = {}\n",
    "    for title in titles:\n",
    "        for word in title.split(' '):\n",
    "            if len(word) > 5:\n",
    "                if word not in word_freq:\n",
    "                    word_freq[word] = 1\n",
    "                word_freq[word] += 1\n",
    "    return word_freq\n",
    "\n",
    "@pipeline.task(depends_on=build_keyword_dictionary)\n",
    "def top_keywords(word_freq):\n",
    "    freq_tuple = [\n",
    "        (word, word_freq[word])\n",
    "        for word in sorted(word_freq, key=word_freq.get, reverse=True)\n",
    "    ]\n",
    "    return freq_tuple[:100]\n",
    "\n",
    "ran = pipeline.run()\n",
    "print(ran[top_keywords])"
   ]
  },
  {
   "cell_type": "code",
   "execution_count": null,
   "metadata": {
    "collapsed": true
   },
   "outputs": [],
   "source": []
  }
 ],
 "metadata": {
  "anaconda-cloud": {},
  "kernelspec": {
   "display_name": "Python 3",
   "language": "python",
   "name": "python3"
  },
  "language_info": {
   "codemirror_mode": {
    "name": "ipython",
    "version": 3
   },
   "file_extension": ".py",
   "mimetype": "text/x-python",
   "name": "python",
   "nbconvert_exporter": "python",
   "pygments_lexer": "ipython3",
   "version": "3.4.3"
  }
 },
 "nbformat": 4,
 "nbformat_minor": 1
}
